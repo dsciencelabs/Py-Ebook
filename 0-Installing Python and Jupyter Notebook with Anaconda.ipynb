{
  "nbformat": 4,
  "nbformat_minor": 0,
  "metadata": {
    "kernelspec": {
      "display_name": "Python 3",
      "language": "python",
      "name": "python3"
    },
    "language_info": {
      "codemirror_mode": {
        "name": "ipython",
        "version": 3
      },
      "file_extension": ".py",
      "mimetype": "text/x-python",
      "name": "python",
      "nbconvert_exporter": "python",
      "pygments_lexer": "ipython3",
      "version": "3.6.8"
    },
    "latex_envs": {
      "LaTeX_envs_menu_present": true,
      "autocomplete": true,
      "bibliofile": "biblio.bib",
      "cite_by": "apalike",
      "current_citInitial": 1,
      "eqLabelWithNumbers": true,
      "eqNumInitial": 1,
      "hotkeys": {
        "equation": "Ctrl-E",
        "itemize": "Ctrl-I"
      },
      "labels_anchors": false,
      "latex_user_defs": false,
      "report_style_numbering": false,
      "user_envs_cfg": false
    },
    "colab": {
      "name": "0-Installing Python and Jupyter Notebook with Anaconda.ipynb",
      "provenance": []
    }
  },
  "cells": [
    {
      "cell_type": "markdown",
      "metadata": {
        "id": "6xc55wLCuWMo"
      },
      "source": [
        "\n",
        "# Installing Python and Jupyter Notebook with Anaconda\n",
        "\n",
        "To install Anaconda, and all the Python packages so that you can work on your own computer:\n",
        "\n",
        "- Go to the [download page on Anaconda](https://www.anaconda.com/download/);\n",
        "\n",
        "![Download Anaconda](https://github.com/dsciencelabs/Py-Ebook/blob/main/images/anaconda-1.jpg?raw=1)\n",
        "\n",
        "- Definitely choose the **Python 3.x version** for installation. Select the appropriate package for your computer (Windows, MacOS, or Linux). If you're on Windows, you'll also need to decide on 64-bit or 32-bit. Most computers now support 64-bit but, if you're unsure, pick the 32-bit version.\n",
        "\n",
        "- After downloading, run the software and install all the defaults.\n",
        "\n",
        "- You'll see you have the option to launch Anaconda, or Jupyter Notebook. For now, we'll go straight into Jupyter Notebook.\n",
        "\n",
        "- The first page that opens in the Jupyter Notebook folder (or tree) view. Here you can see a list of files. Jupyter Notebooks end with the extension \".ipynb\"\n",
        "\n",
        "![Jupyter Notebook tree view](https://github.com/dsciencelabs/Py-Ebook/blob/main/images/jupyter-01.png?raw=1)\n",
        "\n",
        "- Create a new notebook by clicking on \"New\" and select \"Python 3\" as the kernel you wish to run.\n",
        "\n",
        "![Jupyter Notebook create new](https://github.com/dsciencelabs/Py-Ebook/blob/main/images/jupyter-02.png?raw=1)\n",
        "\n",
        "- This is a new notebook and is what you should see:\n",
        "\n",
        "![Jupyter Notebook](https://github.com/dsciencelabs/Py-Ebook/blob/main/images/jupyter-04.png?raw=1)\n",
        "\n",
        "- You can get a tour of the notebook interface from `Help -> User Interface Tour`, or you can learn some shortcuts from `Help -> Keyboard shortcuts`.\n",
        "\n",
        "![Jupyter Notebook shortcuts](https://github.com/dsciencelabs/Py-Ebook/blob/main/images/jupyter-03.png?raw=1)\n",
        "\n",
        "**And now you're ready to start the tutorial.**\n"
      ]
    }
  ]
}