{
 "cells": [
  {
   "cell_type": "markdown",
   "metadata": {},
   "source": [
  
    "\n",
    "# Installing Python and Jupyter Notebook with Anaconda\n",
  
    "To install Anaconda, and all the Python packages so that you can work on your own computer:\n",
    "\n",
    "- Go to the [download page on Anaconda](https://www.anaconda.com/download/);\n",
    "\n",
    "![Download Anaconda](images/anaconda-1.jpg)\n",
    "\n",
    "- Definitely choose the **Python 3.x version** for installation. Select the appropriate package for your computer (Windows, MacOS, or Linux). If you're on Windows, you'll also need to decide on 64-bit or 32-bit. Most computers now support 64-bit but, if you're unsure, pick the 32-bit version.\n",
    "\n",
    "- After downloading, run the software and install all the defaults.\n",
    "\n",
    "- You'll see you have the option to launch Anaconda, or Jupyter Notebook. For now, we'll go straight into Jupyter Notebook.\n",
    "\n",
    "- The first page that opens in the Jupyter Notebook folder (or tree) view. Here you can see a list of files. Jupyter Notebooks end with the extension \".ipynb\"\n",
    "\n",
    "![Jupyter Notebook tree view](images/jupyter-01.png)\n",
    "\n",
    "- Create a new notebook by clicking on \"New\" and select \"Python 3\" as the kernel you wish to run.\n",
    "\n",
    "![Jupyter Notebook create new](images/jupyter-02.png)\n",
    "\n",
    "- This is a new notebook and is what you should see:\n",
    "\n",
    "![Jupyter Notebook](images/jupyter-04.png)\n",
    "\n",
    "- You can get a tour of the notebook interface from `Help -> User Interface Tour`, or you can learn some shortcuts from `Help -> Keyboard shortcuts`.\n",
    "\n",
    "![Jupyter Notebook shortcuts](images/jupyter-03.png)\n",
    "\n",
    "**And now you're ready to start the tutorial.**\n",
    "\n",

   ]
  }
 ],
 "metadata": {
  "kernelspec": {
   "display_name": "Python 3",
   "language": "python",
   "name": "python3"
  },
  "language_info": {
   "codemirror_mode": {
    "name": "ipython",
    "version": 3
   },
   "file_extension": ".py",
   "mimetype": "text/x-python",
   "name": "python",
   "nbconvert_exporter": "python",
   "pygments_lexer": "ipython3",
   "version": "3.6.8"
  },
  "latex_envs": {
   "LaTeX_envs_menu_present": true,
   "autocomplete": true,
   "bibliofile": "biblio.bib",
   "cite_by": "apalike",
   "current_citInitial": 1,
   "eqLabelWithNumbers": true,
   "eqNumInitial": 1,
   "hotkeys": {
    "equation": "Ctrl-E",
    "itemize": "Ctrl-I"
   },
   "labels_anchors": false,
   "latex_user_defs": false,
   "report_style_numbering": false,
   "user_envs_cfg": false
  }
 },
 "nbformat": 4,
 "nbformat_minor": 2
}
